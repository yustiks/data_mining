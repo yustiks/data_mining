{
 "cells": [
  {
   "cell_type": "code",
   "execution_count": null,
   "metadata": {},
   "outputs": [],
   "source": [
    "%matplotlib inline\n",
    "import numpy as np\n",
    "import matplotlib.pyplot as plt\n",
    "from mpl_toolkits.basemap import Basemap\n",
    "from itertools import chain\n",
    "import pandas as pd\n",
    "import operator \n",
    "\n",
    "# import all the latitude and longitude information and plot on the map\n",
    "# fp = open('/home/yustiks/Documents/data mining/project/test1_gt.txt','r')\n",
    "\n",
    "d = dict()\n",
    "lat = []\n",
    "lon = []\n",
    "counts = []\n",
    "\n",
    "filepath = './Documents/data mining/project/training_latlng'  \n",
    "with open(filepath) as fp:  \n",
    "    line = fp.readline()\n",
    "    line = fp.readline()\n",
    "    lst = line.split()\n",
    "    \n",
    "    cnt = 1\n",
    "    while line:\n",
    "        lat1 = format(float(lst[1]), '.6f')\n",
    "        lon1 = format(float(lst[2]), '.6f')\n",
    "        t = (lat1, lon1)\n",
    "        if t in d:\n",
    "            d[t] += 1\n",
    "        else:\n",
    "            d[t] = 1\n",
    "        line = fp.readline()\n",
    "        lst = line.split()\n",
    "        cnt += 1\n",
    "# fp.close()\n",
    "\n",
    "sorted_d = sorted(d.items(), key=operator.itemgetter(1))\n",
    "\n",
    "i = 0\n",
    "for key in sorted_d:\n",
    "    lat.append(key[0][0])\n",
    "    lon.append(key[0][1])\n",
    "    counts.append(key[1])\n",
    "    i += 1 \n",
    "    if i >= 4272:\n",
    "        break\n",
    "        \n",
    "m = Basemap(projection='cyl',llcrnrlat=-90,urcrnrlat=90,\\\n",
    "            llcrnrlon=-180,urcrnrlon=180,resolution='c')\n",
    "fig = plt.figure(figsize=(15,7))\n",
    "#m.fillcontinents(color='gray',lake_color='gray')\n",
    "m.drawcoastlines()\n",
    "m.drawmapboundary(fill_color='white')\n",
    "plt.title('Distribution of pictures')\n",
    "\n",
    "\n",
    "x, y = m(lat,lon)\n",
    "size = (counts)\n",
    "m.scatter(x,y,s=size,marker='o',color='r')\n"
   ]
  },
  {
   "cell_type": "code",
   "execution_count": null,
   "metadata": {
    "collapsed": true
   },
   "outputs": [],
   "source": []
  },
  {
   "cell_type": "code",
   "execution_count": null,
   "metadata": {
    "collapsed": true
   },
   "outputs": [],
   "source": []
  }
 ],
 "metadata": {
  "kernelspec": {
   "display_name": "Python 3",
   "language": "python",
   "name": "python3"
  },
  "language_info": {
   "codemirror_mode": {
    "name": "ipython",
    "version": 3
   },
   "file_extension": ".py",
   "mimetype": "text/x-python",
   "name": "python",
   "nbconvert_exporter": "python",
   "pygments_lexer": "ipython3",
   "version": "3.6.3"
  },
  "varInspector": {
   "cols": {
    "lenName": 16,
    "lenType": 16,
    "lenVar": 40
   },
   "kernels_config": {
    "python": {
     "delete_cmd_postfix": "",
     "delete_cmd_prefix": "del ",
     "library": "var_list.py",
     "varRefreshCmd": "print(var_dic_list())"
    },
    "r": {
     "delete_cmd_postfix": ") ",
     "delete_cmd_prefix": "rm(",
     "library": "var_list.r",
     "varRefreshCmd": "cat(var_dic_list()) "
    }
   },
   "oldHeight": 491,
   "position": {
    "height": "22px",
    "left": "743px",
    "right": "20px",
    "top": "76px",
    "width": "463px"
   },
   "types_to_exclude": [
    "module",
    "function",
    "builtin_function_or_method",
    "instance",
    "_Feature"
   ],
   "varInspector_section_display": "none",
   "window_display": true
  }
 },
 "nbformat": 4,
 "nbformat_minor": 2
}
