{
 "cells": [
  {
   "cell_type": "code",
   "execution_count": 17,
   "metadata": {
    "collapsed": true
   },
   "outputs": [],
   "source": [
    "import pandas as pd\n",
    "import numpy as np\n",
    "import matplotlib.pyplot as plt\n",
    "%matplotlib inline\n",
    "import seaborn as sns\n",
    "import re\n",
    "from collections import Counter\n",
    "import warnings\n",
    "warnings.filterwarnings(\"ignore\")\n",
    "import string\n",
    "\n",
    "from nltk.tokenize import TweetTokenizer # doesn't split at apostrophes\n",
    "import nltk\n",
    "from nltk import Text\n",
    "from nltk.tokenize import regexp_tokenize\n",
    "from nltk.tokenize import word_tokenize  \n",
    "from nltk.tokenize import sent_tokenize \n",
    "from nltk.corpus import stopwords\n",
    "from nltk.stem import WordNetLemmatizer\n",
    "from nltk import pos_tag\n",
    "\n",
    "\n",
    "from sklearn.feature_extraction.text import CountVectorizer"
   ]
  },
  {
   "cell_type": "code",
   "execution_count": 22,
   "metadata": {},
   "outputs": [],
   "source": [
    "#I CLEANED THE 9 TRAIN FILES, I RUN THESE 9 TIMES, CHANGE THE NEW NAME AND THE PATH EACH TIME\n",
    "\n",
    "# BTW TRAIN 9 file is EMPTY\n",
    "\n",
    "new_name=\"train10_cleaned.csv\";\n",
    "\n",
    "#LOAD DATA\n",
    "train = pd.read_csv(\"C:/Users/Ayah/Downloads/DataMinders/train/train_10.csv\")\n",
    "train = train.drop('accuracy', 1)\n",
    "train = train.drop('views', 1)\n",
    "train = train.drop('licenseID', 1)\n",
    "train = train.drop('DateUploaded', 1)\n",
    "\n",
    "\n",
    "#CLEAN DATA\n",
    "for comments in train:\n",
    "    # remove '\\\\n'\n",
    "    train['photoTags'] = train['photoTags'].map(lambda x: re.sub('\\\\n',' ',str(x)))\n",
    "    \n",
    "    # remove any text starting with User... \n",
    "    train['photoTags'] = train['photoTags'].map(lambda x: re.sub(\"\\[\\[User.*\",'',str(x)))\n",
    "    \n",
    "    # remove IP addresses or user IDs\n",
    "    train['photoTags'] = train['photoTags'].map(lambda x: re.sub(\"\\d{1,3}\\.\\d{1,3}\\.\\d{1,3}\\.\\d{1,3}\",'',str(x)))\n",
    "    \n",
    "    # lower uppercase letters\n",
    "    train['photoTags'] = train['photoTags'].map(lambda x: str(x).lower())\n",
    "    \n",
    "    #remove http links in the text\n",
    "    train['photoTags'] = train['photoTags'].map(lambda x: re.sub(\"(http://.*?\\s)|(http://.*)\",'',str(x)))\n",
    "    \n",
    "    #remove all punctuation \n",
    "    train['photoTags'] = train['photoTags'].map(lambda x: re.sub(\"[\"+string.punctuation+\"]\",'',str(x)))\n",
    "       # s= re.sub(\"[\"+string.punctuation+\"]\", \" \", s)\n",
    "    train['photoTags'] = train['photoTags'].map(lambda x: re.sub(r'[^\\x00-\\x7f]','',str(x)))\n",
    "    \n",
    "#SAVE THE CLEANED DATA\n",
    "train.to_csv(new_name, encoding=\"utf-8\",index=False) "
   ]
  },
  {
   "cell_type": "code",
   "execution_count": 25,
   "metadata": {},
   "outputs": [],
   "source": [
    "#Combine the 9 CSV files\n",
    "\n",
    "fout=open(\"train_cleaned.csv\",\"a\")\n",
    "# first file:\n",
    "for line in open(\"C:/Users/Ayah/Downloads/DataMinders/train/train1_cleaned.csv\"):\n",
    "    fout.write(line)\n",
    "# now the rest:    \n",
    "for num in range(2,10):\n",
    "    f = open(\"C:/Users/Ayah/Downloads/DataMinders/train/train\"+str(num)+\"_cleaned.csv\", \"r+\")\n",
    "    f.readline()# skip the header\n",
    "    for line in f:\n",
    "         fout.write(line)\n",
    "    f.close() # not really needed\n",
    "fout.close()"
   ]
  },
  {
   "cell_type": "code",
   "execution_count": null,
   "metadata": {
    "collapsed": true
   },
   "outputs": [],
   "source": []
  },
  {
   "cell_type": "code",
   "execution_count": null,
   "metadata": {
    "collapsed": true
   },
   "outputs": [],
   "source": []
  }
 ],
 "metadata": {
  "kernelspec": {
   "display_name": "Python 3",
   "language": "python",
   "name": "python3"
  },
  "language_info": {
   "codemirror_mode": {
    "name": "ipython",
    "version": 3
   },
   "file_extension": ".py",
   "mimetype": "text/x-python",
   "name": "python",
   "nbconvert_exporter": "python",
   "pygments_lexer": "ipython3",
   "version": "3.6.3"
  }
 },
 "nbformat": 4,
 "nbformat_minor": 2
}
