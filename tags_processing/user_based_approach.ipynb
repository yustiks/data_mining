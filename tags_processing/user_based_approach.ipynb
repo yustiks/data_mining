{
 "cells": [
  {
   "cell_type": "code",
   "execution_count": 1,
   "metadata": {
    "collapsed": true
   },
   "outputs": [],
   "source": [
    "import pandas as pd\n"
   ]
  },
  {
   "cell_type": "code",
   "execution_count": 16,
   "metadata": {
    "collapsed": true
   },
   "outputs": [],
   "source": [
    "import csv\n",
    "\n",
    "txt_file = [r\"dm1/test1_gt.txt\",r\"dm1/test2_gt.txt\",r\"dm1/test3_gt.txt\",r\"dm1/test4_gt.txt\",r\"dm1/test5_gt.txt\"]\n",
    "csv_file = [r\"dm1/test1.csv\",r\"dm1/test2.csv\",r\"dm1/test3.csv\",r\"dm1/test4.csv\",r\"dm1/test5.csv\"]\n",
    "\n",
    "# use 'with' if the program isn't going to immediately terminate\n",
    "# so you don't leave files open\n",
    "# the 'b' is necessary on Windows\n",
    "# it prevents \\x1a, Ctrl-z, from ending the stream prematurely\n",
    "# and also stops Python converting to / from different line terminators\n",
    "# On other platforms, it has no effect\n",
    "for i in range(0, 5):\n",
    "    in_txt = csv.reader(open(txt_file[i], \"rb\"), delimiter = ' ')\n",
    "    out_csv = csv.writer(open(csv_file[i], 'wb'))\n",
    "\n",
    "    out_csv.writerow(('photoID', 'latitude', 'longitude'))\n",
    "    out_csv.writerows(in_txt)"
   ]
  },
  {
   "cell_type": "code",
   "execution_count": 41,
   "metadata": {
    "collapsed": false
   },
   "outputs": [],
   "source": [
    "df_test = pd.read_csv('dm1/test1.csv')"
   ]
  },
  {
   "cell_type": "code",
   "execution_count": 23,
   "metadata": {
    "collapsed": false
   },
   "outputs": [],
   "source": [
    "import pandas as pd\n",
    "# download data\n",
    "dict2 = ['train_1.csv','train_2.csv','train_3.csv','train_4.csv','train_5.csv','train_6.csv','train_7.csv','train8.csv','train9.csv']\n",
    "list1 = []\n",
    "frame = pd.DataFrame()\n",
    "df = pd.read_csv(\"dm1/\"+dict2[0], index_col=None)\n",
    "list1.append(df)\n",
    "for i in range(1,9):\n",
    "    df = pd.read_csv(\"dm1/\"+dict2[i], index_col=None, header=0)\n",
    "    list1.append(df)\n",
    "frame = pd.concat(list1)\n",
    "df = frame \n",
    "df.to_csv('dm1/dm_all.csv',index=False,header=True)"
   ]
  },
  {
   "cell_type": "code",
   "execution_count": 27,
   "metadata": {
    "collapsed": false
   },
   "outputs": [],
   "source": [
    "df = pd.read_csv(\"dm1/dm_all.csv\")"
   ]
  },
  {
   "cell_type": "code",
   "execution_count": 39,
   "metadata": {
    "collapsed": false
   },
   "outputs": [],
   "source": [
    "photoID = df_test.loc[0,'photoID']"
   ]
  },
  {
   "cell_type": "code",
   "execution_count": 57,
   "metadata": {
    "collapsed": false
   },
   "outputs": [
    {
     "data": {
      "text/plain": [
       "1194339123.0"
      ]
     },
     "execution_count": 57,
     "metadata": {},
     "output_type": "execute_result"
    }
   ],
   "source": [
    "photoID"
   ]
  },
  {
   "cell_type": "code",
   "execution_count": 42,
   "metadata": {
    "collapsed": false
   },
   "outputs": [
    {
     "name": "stdout",
     "output_type": "stream",
     "text": [
      "Empty DataFrame\n",
      "Columns: [DateTaken, DateUploaded, accuracy, latitude, licenseID, longitude, photoID, photoLink, photoTags, userID, views]\n",
      "Index: []\n"
     ]
    }
   ],
   "source": [
    "print(df.loc[df['photoID'] == photoID])"
   ]
  },
  {
   "cell_type": "code",
   "execution_count": 54,
   "metadata": {
    "collapsed": false
   },
   "outputs": [],
   "source": [
    "txt_file = [r\"dm1/training_latlng.txt\",\"dm1/training_missingBlocks_latlng.txt\"]\n",
    "csv_file = [r\"dm1/training_latlng.csv\",r\"dm1/training_missingBlocks_latlng.csv\"]\n",
    "\n",
    "# use 'with' if the program isn't going to immediately terminate\n",
    "# so you don't leave files open\n",
    "# the 'b' is necessary on Windows\n",
    "# it prevents \\x1a, Ctrl-z, from ending the stream prematurely\n",
    "# and also stops Python converting to / from different line terminators\n",
    "# On other platforms, it has no effect\n",
    "for i in range(0, 2):\n",
    "    in_txt = csv.reader(open(txt_file[i], \"rb\"), delimiter = ' ')\n",
    "    out_csv = csv.writer(open(csv_file[i], 'wb'))\n",
    "\n",
    "    out_csv.writerows(in_txt)"
   ]
  },
  {
   "cell_type": "code",
   "execution_count": 55,
   "metadata": {
    "collapsed": false
   },
   "outputs": [],
   "source": [
    "dict2 = ['training_latlng.csv','training_missingBlocks_latlng.csv']\n",
    "list1 = []\n",
    "frame = pd.DataFrame()\n",
    "df = pd.read_csv(\"dm1/\"+dict2[0], index_col=None, header=None)\n",
    "list1.append(df)\n",
    "df = pd.read_csv(\"dm1/\"+dict2[1], index_col=None, header=None)\n",
    "list1.append(df)\n",
    "frame = pd.concat(list1)\n",
    "df = frame \n",
    "df.to_csv('dm1/training_all.csv',index=False,header=None)"
   ]
  },
  {
   "cell_type": "code",
   "execution_count": 56,
   "metadata": {
    "collapsed": false
   },
   "outputs": [
    {
     "name": "stdout",
     "output_type": "stream",
     "text": [
      "Empty DataFrame\n",
      "Columns: [photoID, latitude, longitude]\n",
      "Index: []\n"
     ]
    }
   ],
   "source": [
    "df = pd.read_csv(\"dm1/training_all.csv\")\n",
    "print(df.loc[df['photoID'] == photoID])"
   ]
  },
  {
   "cell_type": "code",
   "execution_count": null,
   "metadata": {
    "collapsed": true
   },
   "outputs": [],
   "source": []
  }
 ],
 "metadata": {
  "kernelspec": {
   "display_name": "Python 2",
   "language": "python",
   "name": "python2"
  },
  "language_info": {
   "codemirror_mode": {
    "name": "ipython",
    "version": 2
   },
   "file_extension": ".py",
   "mimetype": "text/x-python",
   "name": "python",
   "nbconvert_exporter": "python",
   "pygments_lexer": "ipython2",
   "version": "2.7.13"
  }
 },
 "nbformat": 4,
 "nbformat_minor": 2
}
