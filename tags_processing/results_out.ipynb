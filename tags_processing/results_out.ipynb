{
 "cells": [
  {
   "cell_type": "code",
   "execution_count": 1,
   "metadata": {
    "collapsed": true
   },
   "outputs": [],
   "source": [
    "import numpy as np\n",
    "import pandas as pd\n",
    "import matplotlib.pyplot as plt\n",
    "from sklearn.cluster import KMeans\n",
    "from collections import Counter\n"
   ]
  },
  {
   "cell_type": "code",
   "execution_count": 18,
   "metadata": {
    "collapsed": false
   },
   "outputs": [
    {
     "name": "stdout",
     "output_type": "stream",
     "text": [
      "[1e-05, 0.0001, 0.01, 0.1, 1, 10, 100, 400]\n",
      "[0, 0, 2298, 4535, 5733, 7472, 13990, 21200]\n",
      "[0.0, 0.0, 0.10839622641509435, 0.21391509433962264, 0.27042452830188679, 0.35245283018867923, 0.65990566037735854, 1.0]\n"
     ]
    }
   ],
   "source": [
    "data_predicted = pd.read_csv('predicted_2.csv')\n",
    "\n",
    "# let's calculate the error and save it in a new column \n",
    "lt_error = (data_predicted['lt_predicted'] - data_predicted['latitude'])**(2)\n",
    "ln_error = (data_predicted['lng_predicted'] - data_predicted['longitude'])**(2)\n",
    "er = (lt_error + ln_error)**(0.5)\n",
    "data_predicted['error'] = er\n",
    "\n",
    "# we will see radius of 0.001 km, 0.01 km, 1 km, 10 km , 100 km , 1000 km, 10000 km, 40000 km \n",
    "\n",
    "radius = [0.00001, 0.0001, 0.01, 0.1, 1, 10, 100, 400]\n",
    "\n",
    "# 1 latitude = 111 km , so we will round it to 100 km\n",
    "answers = []\n",
    "for el in radius: \n",
    "    answers.append(data_predicted['error'][data_predicted['error']<el].count())\n",
    "accuracy = []\n",
    "amount = len(data_predicted)\n",
    "print(radius)\n",
    "print(answers)\n",
    "for i in range(0,8):\n",
    "    accuracy.append(answers[i]/amount)\n",
    "print(accuracy)"
   ]
  },
  {
   "cell_type": "code",
   "execution_count": null,
   "metadata": {
    "collapsed": true
   },
   "outputs": [],
   "source": []
  }
 ],
 "metadata": {
  "kernelspec": {
   "display_name": "Python 3",
   "language": "python",
   "name": "python3"
  },
  "language_info": {
   "codemirror_mode": {
    "name": "ipython",
    "version": 3
   },
   "file_extension": ".py",
   "mimetype": "text/x-python",
   "name": "python",
   "nbconvert_exporter": "python",
   "pygments_lexer": "ipython3",
   "version": "3.6.0"
  }
 },
 "nbformat": 4,
 "nbformat_minor": 2
}
