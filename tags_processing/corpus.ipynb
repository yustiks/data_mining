{
 "cells": [
  {
   "cell_type": "code",
   "execution_count": 251,
   "metadata": {
    "collapsed": true
   },
   "outputs": [],
   "source": [
    "#take tags only from test5 database\n",
    "\n",
    "import numpy as np\n",
    "import pandas as pd\n",
    "import matplotlib.pyplot as plt\n",
    "from sklearn.cluster import KMeans\n",
    "from collections import Counter\n",
    "\n",
    "\n",
    "df = pd.read_csv('train.csv')"
   ]
  },
  {
   "cell_type": "code",
   "execution_count": 261,
   "metadata": {
    "collapsed": true
   },
   "outputs": [],
   "source": [
    "test_data = pd.read_csv('test5_all.csv')"
   ]
  },
  {
   "cell_type": "code",
   "execution_count": 240,
   "metadata": {
    "collapsed": true
   },
   "outputs": [],
   "source": [
    "# delete all data with empty tags from test data\n",
    "test_data.dropna(subset=['photoTags'], inplace=True)"
   ]
  },
  {
   "cell_type": "code",
   "execution_count": 241,
   "metadata": {
    "collapsed": true
   },
   "outputs": [],
   "source": [
    "#take tags from the column 'photoTags'\n",
    "tags = test_data.loc[:,'photoTags']"
   ]
  },
  {
   "cell_type": "code",
   "execution_count": 147,
   "metadata": {
    "collapsed": true
   },
   "outputs": [],
   "source": [
    "# join them to list\n",
    "text = ' '.join(test_data['photoTags'])\n",
    "text_list = text.split(' ')"
   ]
  },
  {
   "cell_type": "code",
   "execution_count": 176,
   "metadata": {},
   "outputs": [
    {
     "data": {
      "text/plain": [
       "<216987x185595 sparse matrix of type '<class 'numpy.int64'>'\n",
       "\twith 1762366 stored elements in Compressed Sparse Row format>"
      ]
     },
     "execution_count": 176,
     "metadata": {},
     "output_type": "execute_result"
    }
   ],
   "source": [
    "vectorizer = CountVectorizer()\n",
    "vectorizer.fit_transform(tags)"
   ]
  },
  {
   "cell_type": "code",
   "execution_count": 177,
   "metadata": {},
   "outputs": [
    {
     "name": "stdout",
     "output_type": "stream",
     "text": [
      "185595\n"
     ]
    }
   ],
   "source": [
    "print(len(vectorizer.vocabulary_))"
   ]
  },
  {
   "cell_type": "code",
   "execution_count": 178,
   "metadata": {},
   "outputs": [],
   "source": [
    "# save the corpus into the file\n",
    "import csv\n",
    "\n",
    "dt = vectorizer.vocabulary_\n",
    "\n",
    "\n",
    "d = pd.DataFrame.from_dict(dt, orient='index', dtype=None)\n",
    "\n",
    "d.to_csv(\"corpus1.csv\", encoding=\"utf-8\", header=['id'])"
   ]
  },
  {
   "cell_type": "code",
   "execution_count": 221,
   "metadata": {},
   "outputs": [],
   "source": [
    "#LOAD DATA\n",
    "train = pd.read_csv(\"corpus1.csv\");\n",
    "\n",
    "#CLEAN DATA\n",
    "train['words'] = train['words'].str.replace(\"\\d+\", '')\n",
    "train['words'] = train['words'].str.replace(\"sec\", '')\n",
    "train['words'] = train['words'].str.replace(\"nabkv\", '')\n",
    "\n",
    "#train['words'] = train['words'].str.replace(\"^[0-9]*$\", '')\n",
    "#s = re.sub(\"^\\d+\\s|\\s\\d+\\s|\\s\\d+$\", \" \", s)\n",
    "train['words'].replace('', np.nan, inplace=True)\n",
    "train = train.dropna(subset=['words'])\n"
   ]
  },
  {
   "cell_type": "code",
   "execution_count": 229,
   "metadata": {},
   "outputs": [],
   "source": [
    "train = train[train['words'].str.len() > 3]\n"
   ]
  },
  {
   "cell_type": "code",
   "execution_count": 230,
   "metadata": {},
   "outputs": [],
   "source": [
    "# save data\n",
    "train.to_csv(\"corpus.csv\", encoding=\"utf-8\")"
   ]
  },
  {
   "cell_type": "code",
   "execution_count": 281,
   "metadata": {},
   "outputs": [],
   "source": [
    "# load data again \n",
    "test_data = pd.read_csv('corpus.csv')\n",
    "#take tags from the column 'photoTags'\n",
    "tags = test_data.loc[:,'words']"
   ]
  },
  {
   "cell_type": "code",
   "execution_count": 282,
   "metadata": {},
   "outputs": [],
   "source": [
    "# so we have features \n",
    "from sklearn.feature_extraction.text import TfidfVectorizer\n",
    "tfidf = TfidfVectorizer()\n",
    "\n",
    "tf_matrix = tfidf.fit_transform(tags)"
   ]
  },
  {
   "cell_type": "code",
   "execution_count": 288,
   "metadata": {},
   "outputs": [],
   "source": [
    "vocab = tfidf.vocabulary_"
   ]
  },
  {
   "cell_type": "code",
   "execution_count": 337,
   "metadata": {},
   "outputs": [],
   "source": [
    "# we have sparse matrix for 3 mln pictures \n",
    "# create KNN\n",
    "train_data = pd.read_csv('dm_clean1.csv')\n",
    "train_data_ = train_data.loc[:,'photoTags']\n",
    "_vect = TfidfVectorizer(vocabulary = vocab)\n",
    "train_c_matrix = _vect.fit_transform(train_data_)\n",
    "\n",
    "nbrs = NearestNeighbors(n_neighbors = 1).fit(train_c_matrix)"
   ]
  },
  {
   "cell_type": "code",
   "execution_count": 304,
   "metadata": {},
   "outputs": [],
   "source": [
    "test_data = pd.read_csv('test5_all.csv')\n",
    "# delete all data with empty tags from test data\n",
    "test_data.dropna(subset=['photoTags'], inplace=True)\n",
    "test_data_ = test_data.loc[:,'photoTags']\n",
    "new_vect = TfidfVectorizer(vocabulary = vocab)\n",
    "test_c_matrix = new_vect.fit_transform(test_data_)\n"
   ]
  },
  {
   "cell_type": "code",
   "execution_count": 338,
   "metadata": {},
   "outputs": [
    {
     "name": "stdout",
     "output_type": "stream",
     "text": [
      "ind 108549\n",
      "[[ 0.]]\n",
      "40.72\n",
      "-73.99\n",
      "test: fortune pei\n",
      "train: nyc fortune\n",
      "-----------------------------\n",
      "ind 141351\n",
      "[[ 0.80085474]]\n",
      "47.52\n",
      "-52.62\n",
      "test: chimney rust stack cape spear\n",
      "train: cape spear east07\n",
      "-----------------------------\n",
      "ind 1835208\n",
      "[[ 0.45179511]]\n",
      "47.57\n",
      "-52.68\n",
      "test: sunset car newfoundland lights stjohns signalhill cabottower\n",
      "train: sign newfoundland stjohns signalhill cabottower fallhazard\n",
      "-----------------------------\n",
      "ind 276565\n",
      "[[ 0.70794809]]\n",
      "51.28\n",
      "0.52\n",
      "test: wifi broadband\n",
      "train: broadband carphonewarehouse\n",
      "-----------------------------\n",
      "ind 25\n",
      "[[ 1.]]\n",
      "64.75\n",
      "-152.28\n",
      "test: geotagged coast australia cliffs sa southaustralia bundacliffs greataustralianbight geo:lat=31637306 geo:lon=129431133\n",
      "train:  geolat647537192501493 geolon152277543501148\n",
      "-----------------------------\n",
      "ind 2463432\n",
      "[[ 0.86529026]]\n",
      "-31.65\n",
      "128.97\n",
      "test: geotagged sand dune wa westernaustralia eucla greataustralianbight geo:lat=3171634 geo:lon=128890057\n",
      "train: australia westernaustralia eucla eremophila taxonomyclassmagnoliopsida taxonomyorderlamiales taxonomykingdomplantae geocountryaustralia taxonomyphyluagnoliophyta geocodemethodgoogleearth geocodeaccuracy5000meters taxonomyfamilymyoporaceae taxonomygenuseremophila eremophilaweldii weldii purpleemubush taxonomybinomialeremophilaweldii taxonomycoonpurpleemubush\n",
      "-----------------------------\n",
      "ind 1578947\n",
      "[[ 0.86232784]]\n",
      "-3.13\n",
      "-59.91\n",
      "test: studio rainforest class manaus amazonas amazonia portadosol ariaú\n",
      "train: brasil manaus amazonas amazonia\n",
      "-----------------------------\n",
      "ind 119219\n",
      "[[ 0.]]\n",
      "43.77\n",
      "11.26\n",
      "test: florence\n",
      "train: florence santacroceflorence\n",
      "-----------------------------\n",
      "ind 45811\n",
      "[[ 0.]]\n",
      "45.37\n",
      "12.34\n",
      "test: venice\n",
      "train: venice malamocco\n",
      "-----------------------------\n",
      "ind 25\n",
      "[[ 1.]]\n",
      "64.75\n",
      "-152.28\n",
      "test: ireland sea landscape bravo kerry kitesurfing windsurfing castlegregory brandonbay kilcummin pltop20ire pljhmwybs pllbettertgood plstockshot plthebestbravo\n",
      "train:  geolat647537192501493 geolon152277543501148\n",
      "-----------------------------\n",
      "ind 25\n",
      "[[ 1.]]\n",
      "64.75\n",
      "-152.28\n",
      "test: ireland sea beach cow kerry castlegregory naturesfinest brandonbay aniimal cappatigue plmywinners plnaturesfinest pljhmwybs plblueribbonwinner\n",
      "train:  geolat647537192501493 geolon152277543501148\n",
      "-----------------------------\n",
      "ind 25\n",
      "[[ 1.]]\n",
      "64.75\n",
      "-152.28\n",
      "test: ireland mountain beach landscape farming brandon kerry bales castlegregory fermoyle plirishfarming\n",
      "train:  geolat647537192501493 geolon152277543501148\n",
      "-----------------------------\n",
      "ind 706661\n",
      "[[ 0.91868269]]\n",
      "52.2\n",
      "-9.88\n",
      "test: ireland landscape kerry castlegregory kilcummin\n",
      "train: ireland sea sky 2004 kerry dinglepeninsula countykerry fbuploadedtrue fbrequesttrue iphonerequesttrue\n",
      "-----------------------------\n",
      "ind 25\n",
      "[[ 1.]]\n",
      "64.75\n",
      "-152.28\n",
      "test: georgia protest anger fist tbilisi november2 opposition 2007 discontent\n",
      "train:  geolat647537192501493 geolon152277543501148\n",
      "-----------------------------\n",
      "ind 25\n",
      "[[ 1.]]\n",
      "64.75\n",
      "-152.28\n",
      "test: ფოტოგრაფია თბილისი საქართველო\n",
      "train:  geolat647537192501493 geolon152277543501148\n",
      "-----------------------------\n"
     ]
    }
   ],
   "source": [
    "for i in range(0,15):\n",
    "    distances, indices = nbrs.kneighbors(test_c_matrix[i])\n",
    "\n",
    "    ind = indices[0][0]\n",
    "    print('ind',ind)\n",
    "    print(distances)\n",
    "    print(train_data.loc[ind,'latitude'])\n",
    "    print(train_data.loc[ind,'longitude'])\n",
    "    print('test:', test_data.loc[i,'photoTags'])\n",
    "    print('train:', train_data.loc[ind,'photoTags'])\n",
    "    print('-----------------------------')"
   ]
  },
  {
   "cell_type": "code",
   "execution_count": null,
   "metadata": {
    "collapsed": true
   },
   "outputs": [],
   "source": []
  }
 ],
 "metadata": {
  "kernelspec": {
   "display_name": "Python 3",
   "language": "python",
   "name": "python3"
  },
  "language_info": {
   "codemirror_mode": {
    "name": "ipython",
    "version": 3
   },
   "file_extension": ".py",
   "mimetype": "text/x-python",
   "name": "python",
   "nbconvert_exporter": "python",
   "pygments_lexer": "ipython3",
   "version": "3.5.4"
  }
 },
 "nbformat": 4,
 "nbformat_minor": 2
}
