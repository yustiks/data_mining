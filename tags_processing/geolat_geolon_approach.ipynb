{
 "cells": [
  {
   "cell_type": "code",
   "execution_count": 1,
   "metadata": {
    "collapsed": false
   },
   "outputs": [
    {
     "name": "stdout",
     "output_type": "stream",
     "text": [
      "367567\n",
      "0.06609425246078256\n"
     ]
    }
   ],
   "source": [
    "# prediction based on the geolat and geolon information\n",
    "\n",
    "import numpy as np\n",
    "import pandas as pd\n",
    "import matplotlib.pyplot as plt\n",
    "from sklearn.cluster import KMeans\n",
    "from collections import Counter\n",
    "\n",
    "train_data = pd.read_csv('dm_all.csv')\n",
    "\n",
    "# delete all data with empty tags from test data\n",
    "train_data.dropna(subset=['photoTags'], inplace=True)\n",
    "# clean all geolat so the values are in the same format\n",
    "train_data['photoTags'] = train_data['photoTags'].str.replace(\":\", '')\n",
    "train_data['photoTags'] = train_data['photoTags'].str.replace(\"=\", '')\n",
    "#take tags from the column 'photoTags'\n",
    "train_geolat = train_data[train_data['photoTags'].str.contains('geolat')]\n",
    "print(len(train_geolat))\n",
    "k = len(train_geolat)\n",
    "\n",
    "\n",
    "# we will create excel for all the data that contains geolat information \n",
    "train_geolat.to_csv(\"all_geo_info.csv\", encoding=\"utf-8\",index=None)\n",
    "\n",
    "train_geolat = pd.read_csv('all_geo_info.csv')\n",
    "list_ln = []\n",
    "list_ln_true = []\n",
    "list_lat = []\n",
    "list_lat_true = []\n",
    "\n",
    "k = 0\n",
    "for i in range(0,len(train_geolat)): #len(train_geolat)\n",
    "    phototags = train_geolat.loc[i,'photoTags']    \n",
    "    try:\n",
    "        start = phototags.find('geolat')\n",
    "        lat = int(phototags[start+6:].split()[0])\n",
    "        start = phototags.find('geolon')\n",
    "        lon = int(phototags[start+6:].split()[0])\n",
    "        list_lat.append(lat)\n",
    "        list_ln.append(lon)\n",
    "        list_ln_true.append(float(train_geolat.loc[i,'longitude'] ))\n",
    "        list_lat_true.append(float(train_geolat.loc[i,'latitude']))\n",
    "    except: \n",
    "        k += 1\n",
    "percent = k/i\n",
    "print(percent)"
   ]
  },
  {
   "cell_type": "code",
   "execution_count": null,
   "metadata": {
    "collapsed": true
   },
   "outputs": [],
   "source": []
  }
 ],
 "metadata": {
  "kernelspec": {
   "display_name": "Python 3",
   "language": "python",
   "name": "python3"
  },
  "language_info": {
   "codemirror_mode": {
    "name": "ipython",
    "version": 3
   },
   "file_extension": ".py",
   "mimetype": "text/x-python",
   "name": "python",
   "nbconvert_exporter": "python",
   "pygments_lexer": "ipython3",
   "version": "3.6.0"
  }
 },
 "nbformat": 4,
 "nbformat_minor": 2
}
