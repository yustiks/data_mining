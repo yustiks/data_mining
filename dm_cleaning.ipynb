{
 "cells": [
  {
   "cell_type": "code",
   "execution_count": 31,
   "metadata": {
    "collapsed": true
   },
   "outputs": [],
   "source": [
    "# download Aiyas data\n",
    "dict2 = ['train1.csv','train2.csv','train3.csv','train4.csv','train5.csv','train6.csv','train7.csv','train7.csv','train8.csv','train9.csv']\n",
    "list1 = []\n",
    "frame = pd.DataFrame()\n",
    "for i in range(0,9):\n",
    "    df = pd.read_csv(\"dm1/\"+dict2[i], index_col=None, header=0)\n",
    "    list1.append(df)\n",
    "frame = pd.concat(list1)\n",
    "df = frame"
   ]
  },
  {
   "cell_type": "code",
   "execution_count": 32,
   "metadata": {
    "collapsed": false
   },
   "outputs": [],
   "source": [
    "# drop same rows \n",
    "df = df.drop_duplicates()\n",
    "# drop if same user with same phototags - leave only the first\n",
    "df = frame.drop_duplicates(['userID', 'photoTags'])\n",
    "# drop if no photoTags at all\n",
    "# df = df.dropna(axis=0, subset=['photoTags'])"
   ]
  },
  {
   "cell_type": "code",
   "execution_count": 33,
   "metadata": {
    "collapsed": false
   },
   "outputs": [
    {
     "name": "stdout",
     "output_type": "stream",
     "text": [
      "2375374\n"
     ]
    }
   ],
   "source": [
    "print(len(df))"
   ]
  }
 ],
 "metadata": {
  "kernelspec": {
   "display_name": "Python 2",
   "language": "python",
   "name": "python2"
  },
  "language_info": {
   "codemirror_mode": {
    "name": "ipython",
    "version": 2
   },
   "file_extension": ".py",
   "mimetype": "text/x-python",
   "name": "python",
   "nbconvert_exporter": "python",
   "pygments_lexer": "ipython2",
   "version": "2.7.13"
  }
 },
 "nbformat": 4,
 "nbformat_minor": 2
}
