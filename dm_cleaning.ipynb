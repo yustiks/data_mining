{
 "cells": [
  {
   "cell_type": "code",
   "execution_count": 22,
   "metadata": {
    "collapsed": false
   },
   "outputs": [],
   "source": [
    "import pandas as pd\n",
    "# download Aiyas data\n",
    "dict2 = ['train1.csv','train2.csv','train3.csv','train4.csv','train5.csv','train6.csv','train7.csv','train7.csv','train8.csv','train9.csv']\n",
    "list1 = []\n",
    "frame = pd.DataFrame()\n",
    "for i in range(0,9):\n",
    "    df = pd.read_csv(\"dm1/\"+dict2[i], index_col=None, header=0)\n",
    "    list1.append(df)\n",
    "frame = pd.concat(list1)\n",
    "df = frame\n",
    "df.to_csv('dm1/dm_clean.csv',index=False,header=['photoID','latitude','longitude','userID','photoLink','photoTags','DateTaken']) "
   ]
  },
  {
   "cell_type": "code",
   "execution_count": 28,
   "metadata": {
    "collapsed": false
   },
   "outputs": [],
   "source": [
    "# drop same rows \n",
    "df = df.drop_duplicates()\n",
    "# drop if same user with same phototags, latitude and longitude and userId - leave only the first\n",
    "df = df.drop_duplicates(['latitude','longitude','userID', 'photoTags'])\n",
    "# drop if no photoTags at all\n",
    "# df = df.dropna(axis=0, subset=['photoTags'])\n",
    "df.to_csv('dm1/dm_clean.csv',index=False,header=['photoID','latitude','longitude','userID','photoLink','photoTags','DateTaken']) "
   ]
  },
  {
   "cell_type": "code",
   "execution_count": 33,
   "metadata": {
    "collapsed": false
   },
   "outputs": [],
   "source": [
    "# change latitude and longitude to 0.13 (only 2 numbers after dot)\n",
    "df = pd.read_csv(\"dm1/dm_clean.csv\")\n",
    "df = df.round({'latitude':2,'longitude':2})\n",
    "df.to_csv('dm1/dm_clean1.csv',index=False)    "
   ]
  },
  {
   "cell_type": "code",
   "execution_count": 34,
   "metadata": {
    "collapsed": true
   },
   "outputs": [],
   "source": [
    "df = df.drop_duplicates(['latitude','longitude','userID', 'photoTags'])"
   ]
  },
  {
   "cell_type": "code",
   "execution_count": 35,
   "metadata": {
    "collapsed": false
   },
   "outputs": [
    {
     "name": "stdout",
     "output_type": "stream",
     "text": [
      "2625328\n"
     ]
    }
   ],
   "source": [
    "print(len(df))"
   ]
  },
  {
   "cell_type": "code",
   "execution_count": 36,
   "metadata": {
    "collapsed": true
   },
   "outputs": [],
   "source": [
    "df.to_csv('dm1/dm_clean1.csv',index=False) "
   ]
  },
  {
   "cell_type": "code",
   "execution_count": null,
   "metadata": {
    "collapsed": true
   },
   "outputs": [],
   "source": [
    "# if same userID, same latitude, longitude, and tags are part of another row, then we can also clean (should we?)"
   ]
  }
 ],
 "metadata": {
  "kernelspec": {
   "display_name": "Python 2",
   "language": "python",
   "name": "python2"
  },
  "language_info": {
   "codemirror_mode": {
    "name": "ipython",
    "version": 2
   },
   "file_extension": ".py",
   "mimetype": "text/x-python",
   "name": "python",
   "nbconvert_exporter": "python",
   "pygments_lexer": "ipython2",
   "version": "2.7.13"
  }
 },
 "nbformat": 4,
 "nbformat_minor": 2
}
