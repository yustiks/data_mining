{
 "cells": [
  {
   "cell_type": "code",
   "execution_count": 1,
   "metadata": {
    "collapsed": true
   },
   "outputs": [],
   "source": [
    "import pandas as pd\n",
    "import numpy as np\n",
    "import matplotlib.pyplot as plt\n",
    "%matplotlib inline\n",
    "import seaborn as sns\n",
    "import re\n",
    "from collections import Counter\n",
    "import warnings\n",
    "warnings.filterwarnings(\"ignore\")\n",
    "import string\n",
    "\n",
    "from nltk.tokenize import TweetTokenizer # doesn't split at apostrophes\n",
    "import nltk\n",
    "from nltk import Text\n",
    "from nltk.tokenize import regexp_tokenize\n",
    "from nltk.tokenize import word_tokenize  \n",
    "from nltk.tokenize import sent_tokenize \n",
    "from nltk.corpus import stopwords\n",
    "from nltk.stem import WordNetLemmatizer\n",
    "from nltk import pos_tag\n",
    "\n",
    "\n",
    "from sklearn.feature_extraction.text import CountVectorizer"
   ]
  },
  {
   "cell_type": "code",
   "execution_count": null,
   "metadata": {
    "collapsed": false
   },
   "outputs": [],
   "source": [
    "#I CLEANED THE 9 TRAIN FILES, I RUN THESE 9 TIME\n",
    "#change the NEW NAME and the PATH each time **********IMPORTANT\n",
    "\n",
    "# BTW TRAIN 9 file is EMPTY\n",
    "new_name=\"train1.csv\";\n",
    "\n",
    "#LOAD DATA\n",
    "train = pd.read_csv(\"data/train1_cleaned.csv\");\n",
    "#train = train.drop('accuracy', 1)\n",
    "#train = train.drop('views', 1)\n",
    "#train = train.drop('licenseID', 1)\n",
    "#train = train.drop('DateUploaded', 1)\n",
    "\n",
    "\n",
    "#CLEAN DATA\n",
    "for comments in train:\n",
    "    # remove '\\\\n'\n",
    "    train['photoTags'] = train['photoTags'].map(lambda x: re.sub('\\\\n',' ',str(x)))\n",
    "    \n",
    "    # remove any text starting with User... \n",
    "    train['photoTags'] = train['photoTags'].map(lambda x: re.sub(\"\\[\\[User.*\",'',str(x)))\n",
    "    \n",
    "    # remove IP addresses or user IDs\n",
    "    train['photoTags'] = train['photoTags'].map(lambda x: re.sub(\"\\d{1,3}\\.\\d{1,3}\\.\\d{1,3}\\.\\d{1,3}\",'',str(x)))\n",
    "    \n",
    "    # lower uppercase letters\n",
    "    train['photoTags'] = train['photoTags'].map(lambda x: str(x).lower())\n",
    "    \n",
    "    #remove http links in the text\n",
    "    train['photoTags'] = train['photoTags'].map(lambda x: re.sub(\"(http://.*?\\s)|(http://.*)\",'',str(x)))\n",
    "    \n",
    "    #remove all punctuation \n",
    "    train['photoTags'] = train['photoTags'].map(lambda x: re.sub(\"[\"+string.punctuation+\"]\",'',str(x)))\n",
    "       # s= re.sub(\"[\"+string.punctuation+\"]\", \" \", s)\n",
    "    train['photoTags'] = train['photoTags'].map(lambda x: re.sub(r'[^\\x00-\\x7f]','',str(x)))\n",
    "     #remove all \n",
    "    train['photoTags'] = train['photoTags'].map(lambda x: re.sub(\"geotagged\",'',str(x)))\n",
    "    train['photoTags'] = train['photoTags'].map(lambda x: re.sub(\"mm\",'',str(x)))\n",
    "    train['photoTags'] = train['photoTags'].map(lambda x: re.sub(\"mmf\",'',str(x)))\n",
    "    train['photoTags'] = train['photoTags'].map(lambda x: re.sub(\"geostate\",'',str(x)))\n",
    "    train['photoTags'] = train['photoTags'].map(lambda x: re.sub(\"landscape\",'',str(x)))\n",
    "    train['photoTags'] = train['photoTags'].map(lambda x: re.sub(\"flickrhq\",'',str(x)))\n",
    "    train['photoTags'] = train['photoTags'].map(lambda x: re.sub(\"admin\",'',str(x)))\n",
    "    train['photoTags'] = train['photoTags'].map(lambda x: re.sub(\"exz\",'',str(x)))\n",
    "    train['photoTags'] = train['photoTags'].map(lambda x: re.sub(\"msh\",'',str(x)))\n",
    "    train['photoTags'] = train['photoTags'].map(lambda x: re.sub(\"exdf\",'',str(x)))\n",
    "    train['photoTags'] = train['photoTags'].map(lambda x: re.sub(\"sigma\",'',str(x)))\n",
    "    train['photoTags'] = train['photoTags'].map(lambda x: re.sub(\"pentaxk\",'',str(x)))\n",
    "    train['photoTags'] = train['photoTags'].map(lambda x: re.sub(\"photoidimg\",'',str(x)))\n",
    "   \n",
    "    #delete all rows with nulls, this works fine because only the photo tags has nulls\n",
    "    train['photoTags'].replace('', np.nan, inplace=True)\n",
    "    train['photoTags'].replace(' ', np.nan, inplace=True)\n",
    "    train['photoTags'].replace('  ', np.nan, inplace=True)\n",
    "    train['photoTags'].replace('   ', np.nan, inplace=True)\n",
    "    train['photoTags'].replace('    ', np.nan, inplace=True)\n",
    "    train['photoTags'].replace('     ', np.nan, inplace=True)\n",
    "    train = train.dropna(how='any',axis=0) \n",
    "    train.to_csv(new_name, encoding=\"utf-8\",index=False)"
   ]
  },
  {
   "cell_type": "code",
   "execution_count": 55,
   "metadata": {
    "collapsed": false
   },
   "outputs": [],
   "source": [
    "#df.isnull().sum()\n",
    "df=train"
   ]
  },
  {
   "cell_type": "code",
   "execution_count": null,
   "metadata": {
    "collapsed": true
   },
   "outputs": [],
   "source": [
    "#Combine the 9 CSV files\n",
    "\n",
    "fout=open(\"train_cleaned_all.csv\",\"a\")\n",
    "# first file:\n",
    "for line in open(\"train1_cleaned.csv\"):\n",
    "    fout.write(line)\n",
    "# now the rest:    \n",
    "for num in range(2,10):\n",
    "    f = open(\"train\"+str(num)+\".csv\", \"r+\")\n",
    "    f.readline()# skip the header\n",
    "    for line in f:\n",
    "         fout.write(line)\n",
    "    f.close() # not really needed\n",
    "fout.close()"
   ]
  },
  {
   "cell_type": "code",
   "execution_count": 9,
   "metadata": {
    "collapsed": false
   },
   "outputs": [
    {
     "data": {
      "text/html": [
       "<div>\n",
       "<style scoped>\n",
       "    .dataframe tbody tr th:only-of-type {\n",
       "        vertical-align: middle;\n",
       "    }\n",
       "\n",
       "    .dataframe tbody tr th {\n",
       "        vertical-align: top;\n",
       "    }\n",
       "\n",
       "    .dataframe thead th {\n",
       "        text-align: right;\n",
       "    }\n",
       "</style>\n",
       "<table border=\"1\" class=\"dataframe\">\n",
       "  <thead>\n",
       "    <tr style=\"text-align: right;\">\n",
       "      <th></th>\n",
       "      <th>photoID</th>\n",
       "      <th>latitude</th>\n",
       "      <th>longitude</th>\n",
       "      <th>accuracy</th>\n",
       "      <th>userID</th>\n",
       "      <th>photoLink</th>\n",
       "      <th>photoTags</th>\n",
       "      <th>DateTaken</th>\n",
       "      <th>DateUploaded</th>\n",
       "      <th>views</th>\n",
       "      <th>licenseID</th>\n",
       "    </tr>\n",
       "  </thead>\n",
       "  <tbody>\n",
       "    <tr>\n",
       "      <th>0</th>\n",
       "      <td>1472189240</td>\n",
       "      <td>38.659015999999994</td>\n",
       "      <td>-57.767097</td>\n",
       "      <td>16</td>\n",
       "      <td>31911001@N00</td>\n",
       "      <td>http://farm2.staticflickr.com/1437/1472189240_...</td>\n",
       "      <td>fortune pei</td>\n",
       "      <td>1191331687</td>\n",
       "      <td>1191325386</td>\n",
       "      <td>18</td>\n",
       "      <td>1</td>\n",
       "    </tr>\n",
       "    <tr>\n",
       "      <th>1</th>\n",
       "      <td>1441071302</td>\n",
       "      <td>47.52434</td>\n",
       "      <td>-52.622547</td>\n",
       "      <td>16</td>\n",
       "      <td>12739532@N08</td>\n",
       "      <td>http://farm2.staticflickr.com/1070/1441071302_...</td>\n",
       "      <td>chimney rust stack cape spear</td>\n",
       "      <td>1188322363</td>\n",
       "      <td>1190776582</td>\n",
       "      <td>53</td>\n",
       "      <td>3</td>\n",
       "    </tr>\n",
       "    <tr>\n",
       "      <th>2</th>\n",
       "      <td>1438580776</td>\n",
       "      <td>47.57131</td>\n",
       "      <td>-52.680965</td>\n",
       "      <td>16</td>\n",
       "      <td>12739532@N08</td>\n",
       "      <td>http://farm2.staticflickr.com/1416/1438580776_...</td>\n",
       "      <td>sunset car newfoundland lights stjohns signalh...</td>\n",
       "      <td>1182804425</td>\n",
       "      <td>1190732692</td>\n",
       "      <td>126</td>\n",
       "      <td>3</td>\n",
       "    </tr>\n",
       "    <tr>\n",
       "      <th>3</th>\n",
       "      <td>156031551</td>\n",
       "      <td>64.09141</td>\n",
       "      <td>-72.1582</td>\n",
       "      <td>16</td>\n",
       "      <td>94366076@N00</td>\n",
       "      <td>http://farm1.staticflickr.com/62/156031551_8e6...</td>\n",
       "      <td>wifi broadband</td>\n",
       "      <td>1148959298</td>\n",
       "      <td>1148952328</td>\n",
       "      <td>32</td>\n",
       "      <td>2</td>\n",
       "    </tr>\n",
       "    <tr>\n",
       "      <th>4</th>\n",
       "      <td>168780851</td>\n",
       "      <td>-31.637306</td>\n",
       "      <td>129.43114</td>\n",
       "      <td>16</td>\n",
       "      <td>73115147@N00</td>\n",
       "      <td>http://farm1.staticflickr.com/78/168780851_f44...</td>\n",
       "      <td>geotagged coast australia cliffs sa southaustr...</td>\n",
       "      <td>1150510518</td>\n",
       "      <td>1150535718</td>\n",
       "      <td>174</td>\n",
       "      <td>3</td>\n",
       "    </tr>\n",
       "  </tbody>\n",
       "</table>\n",
       "</div>"
      ],
      "text/plain": [
       "      photoID            latitude   longitude accuracy        userID  \\\n",
       "0  1472189240  38.659015999999994  -57.767097       16  31911001@N00   \n",
       "1  1441071302            47.52434  -52.622547       16  12739532@N08   \n",
       "2  1438580776            47.57131  -52.680965       16  12739532@N08   \n",
       "3   156031551            64.09141    -72.1582       16  94366076@N00   \n",
       "4   168780851          -31.637306   129.43114       16  73115147@N00   \n",
       "\n",
       "                                           photoLink  \\\n",
       "0  http://farm2.staticflickr.com/1437/1472189240_...   \n",
       "1  http://farm2.staticflickr.com/1070/1441071302_...   \n",
       "2  http://farm2.staticflickr.com/1416/1438580776_...   \n",
       "3  http://farm1.staticflickr.com/62/156031551_8e6...   \n",
       "4  http://farm1.staticflickr.com/78/168780851_f44...   \n",
       "\n",
       "                                           photoTags   DateTaken DateUploaded  \\\n",
       "0                                        fortune pei  1191331687   1191325386   \n",
       "1                      chimney rust stack cape spear  1188322363   1190776582   \n",
       "2  sunset car newfoundland lights stjohns signalh...  1182804425   1190732692   \n",
       "3                                     wifi broadband  1148959298   1148952328   \n",
       "4  geotagged coast australia cliffs sa southaustr...  1150510518   1150535718   \n",
       "\n",
       "  views licenseID  \n",
       "0    18         1  \n",
       "1    53         3  \n",
       "2   126         3  \n",
       "3    32         2  \n",
       "4   174         3  "
      ]
     },
     "execution_count": 9,
     "metadata": {},
     "output_type": "execute_result"
    }
   ],
   "source": [
    "#CLEANING TEST\n",
    "df=pd.read_csv(\"test.csv\", encoding='latin-1');\n",
    "df.head()"
   ]
  },
  {
   "cell_type": "code",
   "execution_count": 10,
   "metadata": {
    "collapsed": false
   },
   "outputs": [
    {
     "data": {
      "text/plain": [
       "photoID             0\n",
       "latitude            0\n",
       "longitude           0\n",
       "accuracy            0\n",
       "userID              0\n",
       "photoLink           0\n",
       "photoTags       35053\n",
       "DateTaken           0\n",
       "DateUploaded        0\n",
       "views               0\n",
       "licenseID           0\n",
       "dtype: int64"
      ]
     },
     "execution_count": 10,
     "metadata": {},
     "output_type": "execute_result"
    }
   ],
   "source": [
    "df.isnull().sum()"
   ]
  },
  {
   "cell_type": "code",
   "execution_count": 11,
   "metadata": {
    "collapsed": false
   },
   "outputs": [
    {
     "data": {
      "text/plain": [
       "photoID         262009\n",
       "latitude        262009\n",
       "longitude       262009\n",
       "accuracy        262009\n",
       "userID          262009\n",
       "photoLink       262009\n",
       "photoTags       226956\n",
       "DateTaken       262009\n",
       "DateUploaded    262009\n",
       "views           262009\n",
       "licenseID       262009\n",
       "dtype: int64"
      ]
     },
     "execution_count": 11,
     "metadata": {},
     "output_type": "execute_result"
    }
   ],
   "source": [
    "df.count()"
   ]
  },
  {
   "cell_type": "code",
   "execution_count": 12,
   "metadata": {
    "collapsed": true
   },
   "outputs": [],
   "source": [
    "#delete all rows with nulls, this works fine because only the photo tags has nulls\n",
    "df = df.dropna(how='any',axis=0) \n",
    "df.to_csv(\"test_cleaned.csv\", encoding=\"utf-8\",index=False)"
   ]
  },
  {
   "cell_type": "code",
   "execution_count": 18,
   "metadata": {
    "collapsed": false
   },
   "outputs": [
    {
     "data": {
      "text/plain": [
       "photoID         0\n",
       "latitude        0\n",
       "longitude       0\n",
       "accuracy        0\n",
       "userID          0\n",
       "photoLink       0\n",
       "photoTags       0\n",
       "DateTaken       0\n",
       "DateUploaded    0\n",
       "views           0\n",
       "licenseID       0\n",
       "dtype: int64"
      ]
     },
     "execution_count": 18,
     "metadata": {},
     "output_type": "execute_result"
    }
   ],
   "source": [
    "df.isnull().sum()"
   ]
  },
  {
   "cell_type": "code",
   "execution_count": 19,
   "metadata": {
    "collapsed": false
   },
   "outputs": [
    {
     "data": {
      "text/plain": [
       "photoID         226956\n",
       "latitude        226956\n",
       "longitude       226956\n",
       "accuracy        226956\n",
       "userID          226956\n",
       "photoLink       226956\n",
       "photoTags       226956\n",
       "DateTaken       226956\n",
       "DateUploaded    226956\n",
       "views           226956\n",
       "licenseID       226956\n",
       "dtype: int64"
      ]
     },
     "execution_count": 19,
     "metadata": {},
     "output_type": "execute_result"
    }
   ],
   "source": [
    "df.count()"
   ]
  },
  {
   "cell_type": "code",
   "execution_count": 17,
   "metadata": {
    "collapsed": true
   },
   "outputs": [],
   "source": [
    "#CLEAN DATA\n",
    "for comments in df:\n",
    "    # remove '\\\\n'\n",
    "    df['photoTags'] = df['photoTags'].map(lambda x: re.sub('\\\\n',' ',str(x)))\n",
    "    \n",
    "    # remove any text starting with User... \n",
    "    df['photoTags'] = df['photoTags'].map(lambda x: re.sub(\"\\[\\[User.*\",'',str(x)))\n",
    "    \n",
    "    # remove IP addresses or user IDs\n",
    "    df['photoTags'] = df['photoTags'].map(lambda x: re.sub(\"\\d{1,3}\\.\\d{1,3}\\.\\d{1,3}\\.\\d{1,3}\",'',str(x)))\n",
    "    \n",
    "    # lower uppercase letters\n",
    "    df['photoTags'] = df['photoTags'].map(lambda x: str(x).lower())\n",
    "    \n",
    "    #remove http links in the text\n",
    "    df['photoTags'] = df['photoTags'].map(lambda x: re.sub(\"(http://.*?\\s)|(http://.*)\",'',str(x)))\n",
    "    \n",
    "    #remove all punctuation \n",
    "    df['photoTags'] = df['photoTags'].map(lambda x: re.sub(\"[\"+string.punctuation+\"]\",'',str(x)))\n",
    "       # s= re.sub(\"[\"+string.punctuation+\"]\", \" \", s)\n",
    "    df['photoTags'] = df['photoTags'].map(lambda x: re.sub(r'[^\\x00-\\x7f]','',str(x)))\n",
    "    \n",
    "     # remove any text starting with User... \n",
    "    df['photoTags'] = df['photoTags'].map(lambda x: re.sub(\"\\[\\[User.*\",'',str(x)))\n",
    " \n",
    "#SAVE THE CLEANED DATA\n",
    "df.to_csv(\"test_clean1.csv\", encoding=\"utf-8\",index=False) "
   ]
  }
 ],
 "metadata": {
  "kernelspec": {
   "display_name": "Python 2",
   "language": "python",
   "name": "python2"
  },
  "language_info": {
   "codemirror_mode": {
    "name": "ipython",
    "version": 2
   },
   "file_extension": ".py",
   "mimetype": "text/x-python",
   "name": "python",
   "nbconvert_exporter": "python",
   "pygments_lexer": "ipython2",
   "version": "2.7.13"
  }
 },
 "nbformat": 4,
 "nbformat_minor": 2
}
